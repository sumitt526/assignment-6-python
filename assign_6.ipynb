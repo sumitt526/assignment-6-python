{
 "cells": [
  {
   "cell_type": "code",
   "execution_count": 4,
   "id": "06a30649-6e14-4d18-a868-befbbc90f268",
   "metadata": {},
   "outputs": [],
   "source": [
    "#qsn 1 solution:-\n",
    "\n",
    "\"\"\"class is a classification of real world entity or blueprint of a real world entity but not specific to the real world entity.\n",
    "moreover, we can say that class is a collection of objects and contains blueprint or prototype from which objects are created.\n",
    "class also contains attributes and methods. classes are created using keyword \"class\"\n",
    "class helps us to enhance coding capability, makes the code reusable, structured and optimised.\n",
    "\n",
    "for example let me create a class:- \"\"\"\n",
    "\n",
    "class dog:\n",
    "    \n",
    "    def __init__(self, breed, age, fur):\n",
    "        self.breed = breed\n",
    "        self.age = age\n",
    "        self.fur = fur\n",
    "        \n",
    "    def show_details(self):\n",
    "        '''shows the details of dogs'''\n",
    "        return self.breed, self.age, self.fur\n",
    "    "
   ]
  },
  {
   "cell_type": "code",
   "execution_count": 7,
   "id": "be4f3767-93e0-4ead-857b-ebf1b25d283c",
   "metadata": {},
   "outputs": [],
   "source": [
    "dog1 = dog(\"labradour\", \"5 years\", \"less fur\")"
   ]
  },
  {
   "cell_type": "code",
   "execution_count": 10,
   "id": "a394e016-6849-4e4e-9442-b93e5816413a",
   "metadata": {},
   "outputs": [
    {
     "data": {
      "text/plain": [
       "('labradour', '5 years', 'less fur')"
      ]
     },
     "execution_count": 10,
     "metadata": {},
     "output_type": "execute_result"
    }
   ],
   "source": [
    "dog1.show_details()"
   ]
  },
  {
   "cell_type": "code",
   "execution_count": 11,
   "id": "3257c14d-be24-434a-a041-cf2d0fb60d36",
   "metadata": {},
   "outputs": [
    {
     "data": {
      "text/plain": [
       "'labradour'"
      ]
     },
     "execution_count": 11,
     "metadata": {},
     "output_type": "execute_result"
    }
   ],
   "source": [
    "dog1.breed"
   ]
  },
  {
   "cell_type": "code",
   "execution_count": 12,
   "id": "0d7426a8-c8bb-4706-8b3a-0619613f8c8b",
   "metadata": {},
   "outputs": [
    {
     "data": {
      "text/plain": [
       "'less fur'"
      ]
     },
     "execution_count": 12,
     "metadata": {},
     "output_type": "execute_result"
    }
   ],
   "source": [
    "dog1.fur\n"
   ]
  },
  {
   "cell_type": "code",
   "execution_count": 14,
   "id": "0658ad50-75cf-4c01-baf3-5b86a0b21129",
   "metadata": {},
   "outputs": [],
   "source": [
    "\"\"\"so in the above example we seen how to create a class and how to operate it.\n",
    "   now, in the above example the variable \"dog1\" is the object or we can say is the instance of the class dog.\n",
    "   object is an real world entity that has state and behaviour assosicated with it.\"\"\""
   ]
  },
  {
   "cell_type": "code",
   "execution_count": null,
   "id": "50c6d64c-3fa4-47aa-b3bf-0c7bb2c05812",
   "metadata": {},
   "outputs": [],
   "source": [
    "#qsn 2 solution:-\n",
    "\"\"\"\n",
    "the four pillar of oops are as follows:-\n",
    "1) inheritance\n",
    "2) encapsulation\n",
    "3) polymorphism\n",
    "4) abstraction       '''"
   ]
  },
  {
   "cell_type": "code",
   "execution_count": 16,
   "id": "3f84900c-ff61-4a53-b153-10b7bd0bbbdc",
   "metadata": {},
   "outputs": [],
   "source": [
    "#qsn 3 solution:-\n",
    "'''\n",
    "init basically means initialization.\n",
    "__init__() function is used while creating a class, it enables to input the data specific to an object in the class.\n",
    "__init__() function is known as constructor. '''\n",
    "\n",
    "#example:-\n",
    "\n",
    "class example:\n",
    "    \n",
    "    def __init__(self, wow, you, like, the, example):\n",
    "        self.wow = wow\n",
    "        self.you = you\n",
    "        self.like = like\n",
    "        self.the = the\n",
    "        self.example = example\n",
    "        "
   ]
  },
  {
   "cell_type": "code",
   "execution_count": 20,
   "id": "2ab9acb9-3a7c-4864-8b97-4ce2d48db564",
   "metadata": {},
   "outputs": [],
   "source": [
    "let_see = example(\"you\", \"are\", 'seeing', 'example', 'now')"
   ]
  },
  {
   "cell_type": "code",
   "execution_count": 22,
   "id": "a9dd6d96-9aba-46de-a7b9-c25d07594c9d",
   "metadata": {},
   "outputs": [
    {
     "data": {
      "text/plain": [
       "'you'"
      ]
     },
     "execution_count": 22,
     "metadata": {},
     "output_type": "execute_result"
    }
   ],
   "source": [
    "let_see.wow"
   ]
  },
  {
   "cell_type": "code",
   "execution_count": 23,
   "id": "5a9cf19d-cbf3-4bc5-a15c-cee2c3ab7cf1",
   "metadata": {},
   "outputs": [
    {
     "data": {
      "text/plain": [
       "'are'"
      ]
     },
     "execution_count": 23,
     "metadata": {},
     "output_type": "execute_result"
    }
   ],
   "source": [
    "let_see.you"
   ]
  },
  {
   "cell_type": "code",
   "execution_count": 24,
   "id": "684ff55b-be1d-43c9-93f1-25098fc94bf3",
   "metadata": {},
   "outputs": [
    {
     "data": {
      "text/plain": [
       "'seeing'"
      ]
     },
     "execution_count": 24,
     "metadata": {},
     "output_type": "execute_result"
    }
   ],
   "source": [
    "let_see.like"
   ]
  },
  {
   "cell_type": "code",
   "execution_count": 25,
   "id": "87641ace-ac56-4ae1-b9e7-1231724ae041",
   "metadata": {},
   "outputs": [
    {
     "data": {
      "text/plain": [
       "'example'"
      ]
     },
     "execution_count": 25,
     "metadata": {},
     "output_type": "execute_result"
    }
   ],
   "source": [
    "let_see.the"
   ]
  },
  {
   "cell_type": "code",
   "execution_count": 26,
   "id": "a08e8e99-c8b9-40a1-8065-6c0e657ae9d5",
   "metadata": {},
   "outputs": [
    {
     "data": {
      "text/plain": [
       "'now'"
      ]
     },
     "execution_count": 26,
     "metadata": {},
     "output_type": "execute_result"
    }
   ],
   "source": [
    "let_see.example"
   ]
  },
  {
   "cell_type": "code",
   "execution_count": null,
   "id": "336e08bf-b6ae-4f65-b109-e8753363855a",
   "metadata": {},
   "outputs": [],
   "source": [
    "'''so this is how __init__ function enables us to input data specific to an object in the class '''"
   ]
  },
  {
   "cell_type": "code",
   "execution_count": null,
   "id": "f76304a8-f637-4a09-8553-5ee780e7712c",
   "metadata": {},
   "outputs": [],
   "source": [
    "#qsn 4 solution:-\n",
    "\n",
    "'''\n",
    "self acts as a pointer in oops for class.\n",
    "self is used in oops to bind the method or function with the class and to access them easily. '''"
   ]
  },
  {
   "cell_type": "code",
   "execution_count": null,
   "id": "62db47df-5d02-4aec-aabf-b542734dc742",
   "metadata": {},
   "outputs": [],
   "source": [
    "#qsn 5 solution:-\n",
    "'''\n",
    "inheritance is the capability of a class to inherit or derive the properties from another class.\n",
    "the class that derives the properties is called the derived class or child class whereas, the class\n",
    "from which the properties are being derived is called the base class or parent class.\n",
    "inheritance provides reusability and represents real world relationships very well.\n",
    "it is transitive in nature that means if class A inherits from class B then all the subclasses of A\n",
    "would automatically inherit from class B.\n",
    "\n",
    "there are 4 types of inheritance:-\n",
    "1) single inheritance:- Single-level inheritance enables a derived class to inherit characteristics from a single-parent class.\n",
    "                                                                  A --> B\n",
    "2) multilevel inheritance:- Multi-level inheritance enables a derived class to inherit properties from an immediate parent class which in turn\n",
    "                            inherits properties from his parent class.\n",
    "                                                                A --> B --> C \n",
    "3) hierarchical inheritance:- Hierarchical level inheritance enables more than one derived class to inherit properties from a parent class.\n",
    "                                                                  -----A------\n",
    "                                                                  |    |     |\n",
    "                                                                  B    C     D\n",
    "4) multiple inheritance:- Multiple level inheritance enables one derived class to inherit properties from more than one base class.\n",
    "                                                                      A   B\n",
    "                                                                       \\ /\n",
    "                                                                        C\n",
    "                                                                                                                                                '''"
   ]
  }
 ],
 "metadata": {
  "kernelspec": {
   "display_name": "Python 3 (ipykernel)",
   "language": "python",
   "name": "python3"
  },
  "language_info": {
   "codemirror_mode": {
    "name": "ipython",
    "version": 3
   },
   "file_extension": ".py",
   "mimetype": "text/x-python",
   "name": "python",
   "nbconvert_exporter": "python",
   "pygments_lexer": "ipython3",
   "version": "3.10.8"
  }
 },
 "nbformat": 4,
 "nbformat_minor": 5
}
